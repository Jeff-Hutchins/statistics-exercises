{
 "cells": [
  {
   "cell_type": "markdown",
   "metadata": {},
   "source": [
    "# Exercise\n",
    "\n",
    "## For each of the following questions, formulate a null and alternative hypothesis (be as specific as you can be), \n",
    "## then give an example of what a true positive, true negative, type I and type II errors would look like."
   ]
  },
  {
   "cell_type": "markdown",
   "metadata": {},
   "source": [
    "### Is the website redesign any good? \n",
    "\n",
    "### Rephrased: Has the click rate gone up, down, or stayed the same since the website redesign?\n",
    "    \n",
    "   **Null hypothesis:** The click rate on the website has remained the same since the redesign.\n",
    "    \n",
    "   **Alternative hypothesis:** The website redesign was terrible and had a negative affect on the click rate.\n",
    "    \n",
    "   **True Positive:** Null hypothesis rejected and website redisign has had a negative affect on the click rate.\n",
    "    \n",
    "   **True Negative:** Null hypothesis not rejected.  Website redisign had a positive affect on click rates.\n",
    "    \n",
    "   **Type 1 Error:** Results say that website redesign had a negative affect on click rates but actually didnt in reality.\n",
    "    \n",
    "   **Type 2 Error:** Results say that website redesign didn't have a negative affect but it actually did in reality.\n",
    "    "
   ]
  },
  {
   "cell_type": "markdown",
   "metadata": {},
   "source": [
    "### Is our television ad driving more sales?\n",
    "\n",
    "### Rephrased: Have sales gone up, down, or stayed the same since the release of our adds?\n",
    "    \n",
    "   **Null hypothesis:** The adds have no proven causal affect on our sales.\n",
    "    \n",
    "   **Alternative hypothesis:** The adds have had a positive affect on our sales.\n",
    "    \n",
    "   **True Positive:** Adds have a positive affect on sales.\n",
    "    \n",
    "   **True Negative:** Adds aren't proven to have a positive affect on sales.\n",
    "    \n",
    "   **Type 1 Error:** Results say that adds have a positive affect while in reality it didn't.\n",
    "    \n",
    "   **Type 2 Error:** Results say that adds don't have a positive affect on sales while in reality it does."
   ]
  },
  {
   "cell_type": "markdown",
   "metadata": {},
   "source": [
    "### Has the network latency gone up since we switched internet service providers?\n",
    "\n",
    "### Rephrased: How has our network latency changed since we switched internet service providers?\n",
    "    \n",
    "   **Null hypothesis:** The change of internet service provider has had no affect on our latency.\n",
    "    \n",
    "   **Alternative hypothesis:** The change of internet service provider has increased our latency.\n",
    "    \n",
    "   **True Positive:** Change of ISP increased latency.\n",
    "    \n",
    "   **True Negative:** No proof that change of ISP had the affect of increasing latency.\n",
    "    \n",
    "   **Type 1 Error:** Results say that change of ISP increased latency while in reality it did not.\n",
    "    \n",
    "   **Type 2 Error:** Results say that change of ISP had no affect on latency while in reality it did."
   ]
  },
  {
   "cell_type": "markdown",
   "metadata": {},
   "source": [
    "# Continue working in your hypothesis_testing notebook.\n",
    "\n",
    "### Ace Realty wants to determine whether the average time it takes to sell homes is different for its two offices. A sample of 40 sales from office #1 revealed a mean of 90 days and a standard deviation of 15 days. A sample of 50 sales from office #2 revealed a mean of 100 days and a standard deviation of 20 days. Use a .05 level of significance."
   ]
  },
  {
   "cell_type": "code",
   "execution_count": 1,
   "metadata": {},
   "outputs": [],
   "source": [
    "import math\n",
    "import numpy as np\n",
    "from scipy import stats"
   ]
  },
  {
   "cell_type": "code",
   "execution_count": 2,
   "metadata": {},
   "outputs": [
    {
     "data": {
      "text/plain": [
       "array([107.15565154,  84.9000477 , 100.31212818, 113.68727322,\n",
       "       115.38970076,  95.80906046,  89.90217205,  72.91684393,\n",
       "        88.66663767, 101.13512914, 131.16218412, 118.48776952,\n",
       "        60.07164483, 116.79518363, 100.19654528,  85.55219109,\n",
       "        87.88682738, 113.11184884,  97.4659071 ,  74.65790352,\n",
       "        92.88265662,  70.88137997,  66.4845163 , 111.28663636,\n",
       "       118.49872857,  80.24484591,  93.00047527,  94.27129269,\n",
       "        90.61075734,  68.26657228, 122.20184763,  95.98981559,\n",
       "        76.5020235 , 102.25834702,  87.57616985,  72.60910777,\n",
       "       119.74680786,  62.01368788,  73.60792579,  85.90920052])"
      ]
     },
     "execution_count": 2,
     "metadata": {},
     "output_type": "execute_result"
    }
   ],
   "source": [
    "stats.norm(90, 15).rvs(40)"
   ]
  },
  {
   "cell_type": "code",
   "execution_count": 3,
   "metadata": {},
   "outputs": [
    {
     "data": {
      "text/plain": [
       "array([132.34876786, 121.30009467,  92.52832261, 100.12828705,\n",
       "        92.30976724,  75.17034783, 103.67963047, 119.8784126 ,\n",
       "       127.70637286, 128.39213307, 118.93947734, 101.61907402,\n",
       "       113.43374045, 125.93573707, 120.69704268, 104.60060967,\n",
       "       110.91705472, 124.81183652,  90.03785475, 116.96621609,\n",
       "       105.29781565, 106.64677547,  96.04213825, 112.60344367,\n",
       "       105.14523669, 132.39827267,  81.14942701,  97.12777129,\n",
       "        91.87842818,  86.20819594,  94.56774975,  88.50674002,\n",
       "        61.34909799,  73.93547821,  83.56685476, 115.78735767,\n",
       "        77.10425075, 115.08608362,  53.13115313,  93.96597812,\n",
       "        88.40886838, 106.89383802,  85.35190623,  90.80005115,\n",
       "        88.84154369, 104.81364018, 106.13574137, 105.06813769,\n",
       "        86.03500829, 129.04608187])"
      ]
     },
     "execution_count": 3,
     "metadata": {},
     "output_type": "execute_result"
    }
   ],
   "source": [
    "stats.norm(100, 20).rvs(50)"
   ]
  },
  {
   "cell_type": "code",
   "execution_count": 46,
   "metadata": {},
   "outputs": [],
   "source": [
    "α = .05 #level of signifigance\n",
    "\n",
    "n1 = 40 #sales\n",
    "n2 = 50 #sales\n",
    "\n",
    "µ1 = 90 #days\n",
    "µ2 = 100 #days\n",
    "\n",
    "σ1 = 15 #days\n",
    "σ2 = 20 #days\n",
    "\n",
    "x1 = stats.norm(90, 15).rvs(40)\n",
    "x2 = stats.norm(100, 20).rvs(50)\n",
    "\n",
    "x̄1 = x1.mean()\n",
    "x̄2 = x2.mean()\n",
    "\n",
    "s1 = x1.std()\n",
    "s2 = x2.std()\n",
    "\n",
    "degf = n1 + n2 - 2\n",
    "\n",
    "sp = math.sqrt(((n1 - 1)*(σ1 ** 2) + (n2 - 1)*(σ2 ** 2)) / (degf))\n",
    "\n",
    "t = (x̄1 - x̄2) / (sp * math.sqrt(1/n1 + 1/n2))\n",
    "\n",
    "standard_error = se = math.sqrt(s1**2 / n1 + s2**2 / n2)"
   ]
  },
  {
   "cell_type": "code",
   "execution_count": 47,
   "metadata": {},
   "outputs": [
    {
     "data": {
      "text/plain": [
       "0.26553441715204373"
      ]
     },
     "execution_count": 47,
     "metadata": {},
     "output_type": "execute_result"
    }
   ],
   "source": [
    "p = stats.t(degf).cdf(t) * 2\n",
    "p"
   ]
  },
  {
   "cell_type": "code",
   "execution_count": 48,
   "metadata": {},
   "outputs": [
    {
     "data": {
      "text/plain": [
       "-1.1205354073783231"
      ]
     },
     "execution_count": 48,
     "metadata": {},
     "output_type": "execute_result"
    }
   ],
   "source": [
    "t"
   ]
  },
  {
   "cell_type": "code",
   "execution_count": 49,
   "metadata": {},
   "outputs": [
    {
     "data": {
      "text/plain": [
       "Ttest_indResult(statistic=-1.148137552868031, pvalue=0.2540233175847108)"
      ]
     },
     "execution_count": 49,
     "metadata": {},
     "output_type": "execute_result"
    }
   ],
   "source": [
    "stats.ttest_ind(x1, x2)"
   ]
  },
  {
   "cell_type": "markdown",
   "metadata": {},
   "source": [
    "### Load the mpg dataset and use it to answer the following questions:\n",
    "\n",
    "#### Is there a difference in fuel-efficiency in cars from 2008 vs 1999?\n",
    "#### Are compact cars more fuel-efficient than the average car?\n",
    "#### Do manual cars get better gas mileage than automatic cars?"
   ]
  },
  {
   "cell_type": "code",
   "execution_count": null,
   "metadata": {},
   "outputs": [],
   "source": []
  }
 ],
 "metadata": {
  "kernelspec": {
   "display_name": "Python 3",
   "language": "python",
   "name": "python3"
  },
  "language_info": {
   "codemirror_mode": {
    "name": "ipython",
    "version": 3
   },
   "file_extension": ".py",
   "mimetype": "text/x-python",
   "name": "python",
   "nbconvert_exporter": "python",
   "pygments_lexer": "ipython3",
   "version": "3.7.3"
  }
 },
 "nbformat": 4,
 "nbformat_minor": 2
}
