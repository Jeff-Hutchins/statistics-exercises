{
 "cells": [
  {
   "cell_type": "markdown",
   "metadata": {},
   "source": [
    "# Exercise\n",
    "\n",
    "## For each of the following questions, formulate a null and alternative hypothesis (be as specific as you can be), \n",
    "## then give an example of what a true positive, true negative, type I and type II errors would look like."
   ]
  },
  {
   "cell_type": "markdown",
   "metadata": {},
   "source": [
    "### Is the website redesign any good? \n",
    "\n",
    "### Rephrased: Has the click rate gone up, down, or stayed the same since the website redesign?\n",
    "    \n",
    "    Null hypothesis: The click rate on the website has remained the same since the redesign.\n",
    "    \n",
    "    Alternative hypothesis: The website redesign was terrible and had a negative affect on the click rate.\n",
    "    \n",
    "    True Positive: Null hypothesis rejected and website redisign has had a negative affect on the click rate.\n",
    "    \n",
    "    True Negative: Null hypothesis not rejected.  Website redisign had a positive affect on click rates.\n",
    "    \n",
    "    Type 1 Error: Results say that website redesign had a negative affect on click rates but actually didnt in reality.\n",
    "    \n",
    "    Type 2 Error: Results say that website redesign didn't have a negative affect but it actually did in reality.\n",
    "    "
   ]
  },
  {
   "cell_type": "markdown",
   "metadata": {},
   "source": [
    "### Is our television ad driving more sales?\n",
    "\n",
    "### Rephrased: Have sales gone up, down, or stayed the same since the release of our adds?\n",
    "    \n",
    "    Null hypothesis: The adds have no proven causal affect on our sales.\n",
    "    \n",
    "    Alternative hypothesis: The adds have had a positive affect on our sales.\n",
    "    \n",
    "    True Positive: \n",
    "    \n",
    "    True Negative:\n",
    "    \n",
    "    Type 1 Error:\n",
    "    \n",
    "    Type 2 Error:"
   ]
  },
  {
   "cell_type": "markdown",
   "metadata": {},
   "source": [
    "### Has the network latency gone up since we switched internet service providers?\n",
    "\n",
    "### Rephrased: How has our network latency changed since we switched internet service providers?\n",
    "    \n",
    "    Null hypothesis: The change of internet service provider has had no affect on our latency.\n",
    "    \n",
    "    Alternative hypothesis: The change of internet service provider has increased our latency.\n",
    "    \n",
    "    True Positive:\n",
    "    \n",
    "    True Negative:\n",
    "    \n",
    "    Type 1 Error:\n",
    "    \n",
    "    Type 2 Error:"
   ]
  },
  {
   "cell_type": "markdown",
   "metadata": {},
   "source": [
    "# Continue working in your hypothesis_testing notebook.\n",
    "\n",
    "### Ace Realty wants to determine whether the average time it takes to sell homes is different for its two offices. A sample of 40 sales from office #1 revealed a mean of 90 days and a standard deviation of 15 days. A sample of 50 sales from office #2 revealed a mean of 100 days and a standard deviation of 20 days. Use a .05 level of significance.\n",
    "\n",
    "### Load the mpg dataset and use it to answer the following questions:\n",
    "\n",
    "#### Is there a difference in fuel-efficiency in cars from 2008 vs 1999?\n",
    "#### Are compact cars more fuel-efficient than the average car?\n",
    "#### Do manual cars get better gas mileage than automatic cars?"
   ]
  },
  {
   "cell_type": "code",
   "execution_count": 98,
   "metadata": {},
   "outputs": [],
   "source": [
    "import numpy as np"
   ]
  },
  {
   "cell_type": "code",
   "execution_count": 113,
   "metadata": {},
   "outputs": [
    {
     "data": {
      "text/plain": [
       "array([[1, 3, 5, ..., 4, 1, 4],\n",
       "       [3, 6, 5, ..., 6, 5, 4],\n",
       "       [5, 1, 5, ..., 4, 6, 1],\n",
       "       ...,\n",
       "       [2, 1, 2, ..., 5, 2, 6],\n",
       "       [3, 5, 3, ..., 1, 6, 1],\n",
       "       [4, 1, 3, ..., 2, 6, 4]])"
      ]
     },
     "execution_count": 113,
     "metadata": {},
     "output_type": "execute_result"
    }
   ],
   "source": [
    "rolls = np.random.choice([1, 2, 3, 4, 5, 6], (10_000, 10))\n",
    "rolls"
   ]
  }
 ],
 "metadata": {
  "kernelspec": {
   "display_name": "Python 3",
   "language": "python",
   "name": "python3"
  },
  "language_info": {
   "codemirror_mode": {
    "name": "ipython",
    "version": 3
   },
   "file_extension": ".py",
   "mimetype": "text/x-python",
   "name": "python",
   "nbconvert_exporter": "python",
   "pygments_lexer": "ipython3",
   "version": "3.7.3"
  }
 },
 "nbformat": 4,
 "nbformat_minor": 2
}
