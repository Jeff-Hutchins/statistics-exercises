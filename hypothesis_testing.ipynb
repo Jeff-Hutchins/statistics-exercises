{
 "cells": [
  {
   "cell_type": "markdown",
   "metadata": {},
   "source": [
    "# Exercise\n",
    "\n",
    "## For each of the following questions, formulate a null and alternative hypothesis (be as specific as you can be), \n",
    "## then give an example of what a true positive, true negative, type I and type II errors would look like."
   ]
  },
  {
   "cell_type": "markdown",
   "metadata": {},
   "source": [
    "### Is the website redesign any good? \n",
    "\n",
    "### Rephrased: Has the click rate gone up, down, or stayed the same since the website redesign?\n",
    "    \n",
    "   **Null hypothesis:** The click rate on the website has remained the same since the redesign.\n",
    "    \n",
    "   **Alternative hypothesis:** The website redesign was terrible and had a negative affect on the click rate.\n",
    "    \n",
    "   **True Positive:** Null hypothesis rejected and website redisign has had a negative affect on the click rate.\n",
    "    \n",
    "   **True Negative:** Null hypothesis not rejected.  Website redisign had a positive affect on click rates.\n",
    "    \n",
    "   **Type 1 Error:** Results say that website redesign had a negative affect on click rates but actually didnt in reality.\n",
    "    \n",
    "   **Type 2 Error:** Results say that website redesign didn't have a negative affect but it actually did in reality.\n",
    "    "
   ]
  },
  {
   "cell_type": "markdown",
   "metadata": {},
   "source": [
    "### Is our television ad driving more sales?\n",
    "\n",
    "### Rephrased: Have sales gone up, down, or stayed the same since the release of our adds?\n",
    "    \n",
    "   **Null hypothesis:** The adds have no proven causal affect on our sales.\n",
    "    \n",
    "   **Alternative hypothesis:** The adds have had a positive affect on our sales.\n",
    "    \n",
    "   **True Positive:** Adds have a positive affect on sales.\n",
    "    \n",
    "   **True Negative:** Adds aren't proven to have a positive affect on sales.\n",
    "    \n",
    "   **Type 1 Error:** Results say that adds have a positive affect while in reality it didn't.\n",
    "    \n",
    "   **Type 2 Error:** Results say that adds don't have a positive affect on sales while in reality it does."
   ]
  },
  {
   "cell_type": "markdown",
   "metadata": {},
   "source": [
    "### Has the network latency gone up since we switched internet service providers?\n",
    "\n",
    "### Rephrased: How has our network latency changed since we switched internet service providers?\n",
    "    \n",
    "   **Null hypothesis:** The change of internet service provider has had no affect on our latency.\n",
    "    \n",
    "   **Alternative hypothesis:** The change of internet service provider has increased our latency.\n",
    "    \n",
    "   **True Positive:** Change of ISP increased latency.\n",
    "    \n",
    "   **True Negative:** No proof that change of ISP had the affect of increasing latency.\n",
    "    \n",
    "   **Type 1 Error:** Results say that change of ISP increased latency while in reality it did not.\n",
    "    \n",
    "   **Type 2 Error:** Results say that change of ISP had no affect on latency while in reality it did."
   ]
  },
  {
   "cell_type": "markdown",
   "metadata": {},
   "source": [
    "# Continue working in your hypothesis_testing notebook.\n",
    "\n",
    "### Ace Realty wants to determine whether the average time it takes to sell homes is different for its two offices. A sample of 40 sales from office #1 revealed a mean of 90 days and a standard deviation of 15 days. A sample of 50 sales from office #2 revealed a mean of 100 days and a standard deviation of 20 days. Use a .05 level of significance.\n",
    "\n",
    "### Load the mpg dataset and use it to answer the following questions:\n",
    "\n",
    "#### Is there a difference in fuel-efficiency in cars from 2008 vs 1999?\n",
    "#### Are compact cars more fuel-efficient than the average car?\n",
    "#### Do manual cars get better gas mileage than automatic cars?"
   ]
  },
  {
   "cell_type": "code",
   "execution_count": 18,
   "metadata": {},
   "outputs": [],
   "source": [
    "import math\n",
    "import numpy as np\n",
    "from scipy import stats"
   ]
  },
  {
   "cell_type": "code",
   "execution_count": 22,
   "metadata": {},
   "outputs": [
    {
     "data": {
      "text/plain": [
       "array([ 99.39876713,  91.55581939,  66.71328301, 106.08665993,\n",
       "        99.76585553, 119.11764161,  73.33183377,  94.70975456,\n",
       "        83.01979689,  81.67329417,  81.06280767,  70.04383142,\n",
       "       121.99697255,  64.08337735,  59.6904356 ,  91.56776585,\n",
       "        83.59158557,  86.06752506,  84.53950819,  53.99921074,\n",
       "        81.79938489,  70.33573179, 129.07755403,  88.73569274,\n",
       "        96.65146569,  78.28561684,  70.77452922,  92.44532001,\n",
       "       120.74940137,  63.17799025, 109.99385969,  92.90390888,\n",
       "        82.54746582, 103.08717925, 118.21786598,  82.67702341,\n",
       "       103.26840907,  88.87762564,  87.92704564, 115.30894284])"
      ]
     },
     "execution_count": 22,
     "metadata": {},
     "output_type": "execute_result"
    }
   ],
   "source": [
    "stats.norm(90, 15).rvs(40)"
   ]
  },
  {
   "cell_type": "code",
   "execution_count": 23,
   "metadata": {},
   "outputs": [
    {
     "data": {
      "text/plain": [
       "array([108.41701605, 105.86922904, 102.65926332, 119.67053366,\n",
       "        58.98628719, 101.81317036, 130.16628133,  98.54679461,\n",
       "        92.48170559,  77.48824068,  98.32350094,  96.44075411,\n",
       "       101.74875059,  94.20964491, 118.46744802,  91.30840996,\n",
       "       115.24448062,  72.0169982 ,  44.0204685 ,  85.80553361,\n",
       "        86.2120417 , 116.4286123 , 113.1740048 , 105.6360131 ,\n",
       "        75.03330846,  94.11461483,  73.68263203, 114.53047145,\n",
       "        55.57027626, 145.60277273, 124.49835177, 100.10765335,\n",
       "        56.72804733, 100.83599158, 147.3390657 ,  95.53930485,\n",
       "        81.07224767, 106.11989834,  86.9681327 , 114.59953835,\n",
       "       108.45658749, 121.56813912, 135.84887   , 115.20404863,\n",
       "        83.46667307, 106.77158287,  96.19969101,  88.66206976,\n",
       "        90.44305709,  77.82207655])"
      ]
     },
     "execution_count": 23,
     "metadata": {},
     "output_type": "execute_result"
    }
   ],
   "source": [
    "stats.norm(100, 20).rvs(50)"
   ]
  },
  {
   "cell_type": "code",
   "execution_count": 21,
   "metadata": {},
   "outputs": [],
   "source": [
    "α = .05 #level of signifigance\n",
    "\n",
    "n1 = 40 #sales\n",
    "n2 = 50 #sales\n",
    "\n",
    "µ1 = 90 #days\n",
    "µ2 = 100 #days\n",
    "\n",
    "σ1 = 15 #days\n",
    "σ2 = 20 #days\n",
    "\n",
    "x1 = stats.norm(90, 15).rvs(40)\n",
    "x2 = stats.norm(100, 20).rvs(50)\n",
    "\n",
    "x̄1 = x1.mean()\n",
    "x̄2 = x2.mean()\n",
    "\n",
    "s1 = x1.std()\n",
    "s2 = x2.std()\n",
    "\n",
    "degf = n1 + n2 - 2\n",
    "\n",
    "\n"
   ]
  },
  {
   "cell_type": "code",
   "execution_count": null,
   "metadata": {},
   "outputs": [],
   "source": []
  }
 ],
 "metadata": {
  "kernelspec": {
   "display_name": "Python 3",
   "language": "python",
   "name": "python3"
  },
  "language_info": {
   "codemirror_mode": {
    "name": "ipython",
    "version": 3
   },
   "file_extension": ".py",
   "mimetype": "text/x-python",
   "name": "python",
   "nbconvert_exporter": "python",
   "pygments_lexer": "ipython3",
   "version": "3.7.3"
  }
 },
 "nbformat": 4,
 "nbformat_minor": 2
}
